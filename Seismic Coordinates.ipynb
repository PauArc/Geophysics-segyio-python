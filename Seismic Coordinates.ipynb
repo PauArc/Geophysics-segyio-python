{
 "cells": [
  {
   "cell_type": "markdown",
   "metadata": {},
   "source": [
    "# Importing Libraries and Opening the Files"
   ]
  },
  {
   "cell_type": "code",
   "execution_count": 1,
   "metadata": {},
   "outputs": [],
   "source": [
    "import segyio\n",
    "import matplotlib.pyplot as plt\n",
    "import numpy as np\n",
    "from shutil import copyfile\n",
    "import pandas as pd\n",
    "%matplotlib inline"
   ]
  },
  {
   "cell_type": "code",
   "execution_count": 5,
   "metadata": {},
   "outputs": [],
   "source": [
    "filename = 'C:/Users/karth/Desktop/Research Literature/ST10010ZC11_PZ_PSDM_KIRCH_FAR_D.MIG_FIN.POST_STACK.3D.JS-017536.segy'\n",
    "filename1 = 'C:/Users/karth/Desktop/Research Literature/Dutch Government_F3_entire_8bit seismic.segy'"
   ]
  },
  {
   "cell_type": "markdown",
   "metadata": {},
   "source": [
    "# Code to Store Traces in a DataFrame"
   ]
  },
  {
   "cell_type": "code",
   "execution_count": 3,
   "metadata": {},
   "outputs": [],
   "source": [
    "## Function to store traces in a dataframe\n",
    "\n",
    "def parse_trace_headers(segyfile, n_traces):\n",
    "    '''\n",
    "    Parse the segy file trace headers into a pandas dataframe.\n",
    "    Column names are defined from segyio internal tracefield\n",
    "    One row per trace\n",
    "    '''\n",
    "    # Get all header keys\n",
    "    headers = segyio.tracefield.keys\n",
    "    # Initialize dataframe with trace id as index and headers as columns\n",
    "    df = pd.DataFrame(index=range(1, n_traces + 1),\n",
    "                      columns=headers.keys())\n",
    "    # Fill dataframe with all header values\n",
    "    for k, v in headers.items():\n",
    "        df[k] = segyfile.attributes(v)[:]\n",
    "    return df"
   ]
  },
  {
   "cell_type": "code",
   "execution_count": 20,
   "metadata": {},
   "outputs": [
    {
     "name": "stdout",
     "output_type": "stream",
     "text": [
      "C01 CLIENT : STATOIL                              PROCESSED BY: WESTERNGECO     C02 AREA   : VOLVE, BLOCK 15/9,  NORTH SEA - ST10010     SURVEY: 3D 4C 0BC      C03 3D FULL AREA POST-STACK FINAL PSDM                       DATE: 2011-10-26   C04 DATA FORMAT: SEGY       DATA TYPE: STACK-FAR ANGLE, 32.34-41 DEGREES (D)    C05 ---------------------AQUISITION PARAMETRS---------------------------------- C06 DATA SHOT BY VESSEL: M/V SANCO SPIRIT & VIKLAND  CABLE LENGTH:6000 M        C07 NO OF GROUPS: 960/P,X,Y,Z.  NO OF CABLES: 8  ARRAY VOL/SOURCE: 3990 CU IN.  C08 GROUP INTERVAL: 25M  SHOT INTERVAL: 25M (FLIP-FLOP)  RECORD LENGTH: 10000 MSC09 GEODECTIC DATUM:  ED50      SPHEROID: INTERNAT 1924     PROJECTION: UTM     C10  UTM ZONE: 31 N                                                             C11 FIRST SAMPLE: 4 M     LAST SAMPLE: 4500 M     SAMPLE INTERVAL: 4 M          C12 NAVIGATION SOURCE P1/90 UKOOA, SPS                                          C13 ----------------------PROCESSING SEQUENCE---------------------------------- C14 REFORMAT, RESAMPLING TO 4MS                                                 C15 Z TO P AMP. MATCHING AND DESIGNATURE APPLIED                                C16 TIDAL STATIC CORRECTION, NOISE ATTENUATION                                  C17 PZ CALIBRATION & SUMMATION                                                  C18 DIRECT ARRIVAL REMOVAL (SHOT & RECEIVER DOMAIN)                             C19 LINEAR NOISE ATTENUATION (RECEIVER DOMAIN), OFFSET REGULARIZATION           C20 SINGLE BOUNCE DECON IN TAU-PQ DOMAIN                                        C21 DETERMINISTIC WATER DEMULTIPLE, PrSDM (2011 VELOCITY MODEL),                C22 DEPTH TO TIME CONVERSION, RESIDUAL VELOCITY APPLIED, RADON DEMULTIPLE       C23  ANGLE MUTE (32.34-41 DEGREES), STACK,  MODEL BASED DEMULTIPLE              C24 INVERSE_Q (100),  RANDOM NOISE ATTENUATION, 12.5X12.5 INTERPOLATION         C25 BPF 70Hz 50dB/OCT HIGH-CUT, TIME TO DEPTH CONVERSION, OUTPUT SEGY FORMAT    C26 ----------------------PROCESSING GRID INFORMATION-------------------------  C27 INLINE  BIN SIZE: 12.5M   CROSSLINE BIN SIZE: 12.5M  AZIMUTH: 284 DEGREES   C28 INLINE NUMBER INCREMENT:1       CROSSLINE  NUMBER INCREMENT:1               C29 PG1   X: 439272.97   Y: 6475068.89   IL:   9961   XL: 1881                  C30 PG2   X: 429582.21   Y: 6477485.37   IL:   9961   XL: 2680                  C31 PG3   X: 440588.57   Y: 6480344.84   IL: 10396   XL: 1881                   C32 PG4   X: 430897.81   Y: 6482761.32   IL: 10396   XL: 2680                   C33                                                                             C34 ----------------------HEADER WORD POSITIONS-------------------------------- C35 3D INLINE  BYTES 189-192             |  3D CROSS LINE   BYTES 193-196       C36 BIN CENTRE UTM-X  BYTES 181-184.  |  BIN CENTRE UTM-Y  BYTES 185-188        C37 CMP BYTES 21-24                                                             C38 ALL COORDINATE VALUES ARE MULTIPLIED BY 100                                 C39                                                                             C40 END EBCDIC                                                                  \n"
     ]
    }
   ],
   "source": [
    "## Code to stores traces in a dataframe.\n",
    "\n",
    "with segyio.open(filename, ignore_geometry=True) as f:    ## Ignoring Geometery due to inconsistent inline , xline.\n",
    "    n_traces = f.tracecount\n",
    "    trace_headers = parse_trace_headers(f,n_traces)\n",
    "    h = f.text[0]\n",
    "    h = h.decode('ascii')\n",
    "    print(h)"
   ]
  },
  {
   "cell_type": "markdown",
   "metadata": {},
   "source": [
    "# Coordinate Calculation Code"
   ]
  },
  {
   "cell_type": "code",
   "execution_count": 5,
   "metadata": {},
   "outputs": [],
   "source": [
    "## Functions to calculate coordinates of a specific inline and crossline.\n",
    "\n",
    "def dvt_constin(inline_no):\n",
    "    cl_dy = trace_headers[trace_headers['INLINE_3D'] == inline_no][['CDP_Y']]/100\n",
    "    cl_dx = trace_headers[trace_headers['INLINE_3D'] == inline_no][['CDP_X']]/100\n",
    "    \n",
    "    c_dy = cl_dy.to_numpy()\n",
    "    c_dx = cl_dx.to_numpy()\n",
    "    \n",
    "    ## Calculating Difference in value.\n",
    "    dy_cross = np.mean(np.diff(c_dy,axis = 0))\n",
    "    dx_cross = np.mean(np.diff(c_dx,axis = 0))\n",
    "    \n",
    "    return(dy_cross,dx_cross)\n",
    "\n",
    "def dvt_constcl(crossline_no):\n",
    "    il_dy = trace_headers[trace_headers['INLINE_3D'] == crossline_no][['CDP_Y']]/100\n",
    "    il_dx = trace_headers[trace_headers['INLINE_3D'] == crossline_no][['CDP_X']]/100\n",
    "    \n",
    "    c_dy = il_dy.to_numpy()\n",
    "    c_dx = il_dx.to_numpy()\n",
    "    \n",
    "    ## Calculating Difference in value.\n",
    "    dy_in = np.mean(np.diff(c_dy,axis = 0))\n",
    "    dx_in = np.mean(np.diff(c_dx,axis = 0))\n",
    "    \n",
    "    return(dy_in,dx_in)\n",
    "\n",
    "\n",
    "def coord_pred(inline_no , crossline_no):\n",
    "    x_actual = 0\n",
    "    y_actual = 0\n",
    "    if ((trace_headers[(trace_headers['INLINE_3D'] == inline_no) & (trace_headers['CROSSLINE_3D'] == crossline_no)][['CDP_X','CDP_Y']]).empty):\n",
    "        ## Logic implemented here.\n",
    "        flag = 1\n",
    "        #maxi = \n",
    "        x = crossline_no\n",
    "        ## Logic for if statement.\n",
    "        maxi = (trace_headers[(trace_headers['INLINE_3D'] == inline_no)][['CROSSLINE_3D']])\n",
    "        maxi = np.max(maxi)\n",
    "        maxi = maxi.to_numpy()\n",
    "        if ( x > maxi[0] ):\n",
    "            flag = -1\n",
    "        else :\n",
    "            flag  = 1\n",
    "        x = x + flag\n",
    "        while(1):\n",
    "            if ((trace_headers[(trace_headers['INLINE_3D'] == inline_no) & (trace_headers['CROSSLINE_3D'] == x)][['CDP_X','CDP_Y']]).empty):\n",
    "                x = x + flag\n",
    "                continue\n",
    "            else :\n",
    "                (dy_cross , dx_cross) = dvt_constin(inline_no)\n",
    "                (dy_in , dx_in ) = dvt_constcl(x)\n",
    "                \n",
    "                x_actual = dx_cross*(crossline_no-x) + (trace_headers[(trace_headers['INLINE_3D'] == inline_no) & (trace_headers['CROSSLINE_3D'] == x)][['CDP_X']])/100\n",
    "                y_actual = dy_cross*(crossline_no-x) + (trace_headers[(trace_headers['INLINE_3D'] == inline_no) & (trace_headers['CROSSLINE_3D'] == x)][['CDP_Y']])/100\n",
    "                break\n",
    "                \n",
    "        return (x_actual,y_actual)\n",
    "    \n",
    "    else:\n",
    "        x_actual = trace_headers[(trace_headers['INLINE_3D'] == inline_no) & (trace_headers['CROSSLINE_3D'] == crossline_no)][['CDP_X']]/100\n",
    "        y_actual = trace_headers[(trace_headers['INLINE_3D'] == inline_no) & (trace_headers['CROSSLINE_3D'] == crossline_no)][['CDP_Y']]/100\n",
    "        return(x_actual,y_actual)"
   ]
  },
  {
   "cell_type": "markdown",
   "metadata": {},
   "source": [
    "# User Input Side"
   ]
  },
  {
   "cell_type": "code",
   "execution_count": 6,
   "metadata": {},
   "outputs": [
    {
     "name": "stdout",
     "output_type": "stream",
     "text": [
      "439272.9474581005\n",
      "6475068.806648045\n"
     ]
    },
    {
     "name": "stderr",
     "output_type": "stream",
     "text": [
      "C:\\Users\\karth\\Anaconda3\\lib\\site-packages\\numpy\\core\\fromnumeric.py:3335: RuntimeWarning: Mean of empty slice.\n",
      "  out=out, **kwargs)\n",
      "C:\\Users\\karth\\Anaconda3\\lib\\site-packages\\numpy\\core\\_methods.py:161: RuntimeWarning: invalid value encountered in double_scalars\n",
      "  ret = ret.dtype.type(ret / rcount)\n"
     ]
    }
   ],
   "source": [
    "## User input code.\n",
    "\n",
    "inline_no = 9961\n",
    "crossline_no = 1881\n",
    "\n",
    "x,y = coord_pred(inline_no,crossline_no)\n",
    "x = x.to_numpy()\n",
    "y = y.to_numpy()\n",
    "print(x[0][0])\n",
    "print(y[0][0])"
   ]
  },
  {
   "cell_type": "markdown",
   "metadata": {},
   "source": [
    "# Converting Cooridnates"
   ]
  },
  {
   "cell_type": "code",
   "execution_count": 21,
   "metadata": {},
   "outputs": [],
   "source": [
    "from pyproj import Proj, Transformer, CRS"
   ]
  },
  {
   "cell_type": "code",
   "execution_count": 34,
   "metadata": {},
   "outputs": [],
   "source": [
    "## Alternate code for general parsing.\n",
    "\n",
    "import re\n",
    "\n",
    "text = h\n",
    "\n",
    "m = re.search('(.+?)END', h)\n",
    "if m:\n",
    "    found = m.group(1)\n",
    "    \n",
    "txt = found.split()\n",
    "\n",
    "pos = 0\n",
    "flag = 0\n",
    "\n",
    "if any(\"UTM\" in s for s in txt):\n",
    "    flag = 1\n",
    "else :\n",
    "    flag = 0\n",
    "    \n",
    "    \n",
    "if ( flag == 1):\n",
    "    while(pos < len(txt)):\n",
    "        if ( txt[pos] == 'ZONE:'):\n",
    "            if ( txt[pos-1] == 'UTM'):\n",
    "                no = txt[pos+1]\n",
    "                direc = txt[pos+2]\n",
    "            else :\n",
    "                continue\n",
    "        pos = pos + 1\n",
    "\n",
    "else:\n",
    "    print(\"No coordinate system found!!\")\n"
   ]
  },
  {
   "cell_type": "code",
   "execution_count": 36,
   "metadata": {},
   "outputs": [
    {
     "name": "stdout",
     "output_type": "stream",
     "text": [
      "('EPSG', '32631')\n"
     ]
    }
   ],
   "source": [
    "if(direc == 'N'):\n",
    "    bl = False\n",
    "else:\n",
    "    bl = True\n",
    "    \n",
    "crs = CRS.from_dict({'proj': 'utm', 'zone': no, 'south': bl})\n",
    "f_str = (crs.to_authority())  # ('EPSG', '32736')\n",
    "\n",
    "print(f_str)    ## String With coordinate system values for current segy file i.e epsg number"
   ]
  },
  {
   "cell_type": "code",
   "execution_count": 8,
   "metadata": {},
   "outputs": [
    {
     "name": "stdout",
     "output_type": "stream",
     "text": [
      "('EPSG', '32631')\n"
     ]
    }
   ],
   "source": [
    "## Code to obtain epsg numbers.\n",
    "'''\n",
    "import re\n",
    "\n",
    "text = h\n",
    "\n",
    "m = re.search('C10(.+?)C11', h)\n",
    "if m:\n",
    "    found = m.group(1)\n",
    "\n",
    "st = found.split()\n",
    "\n",
    "## Code to check coordinate system.\n",
    "zone_no = st[2]\n",
    "flag = False\n",
    "if(st[3] == 'N'):\n",
    "    flag = False\n",
    "else:\n",
    "    flag = True\n",
    "crs = CRS.from_string('+proj=utm +zone=36 +south')\n",
    "# or dictionary\n",
    "crs = CRS.from_dict({'proj': 'utm', 'zone': zone_no, 'south': flag})\n",
    "\n",
    "f_str = (crs.to_authority())  # ('EPSG', '32736')\n",
    "\n",
    "print(f_str)\n",
    "'''"
   ]
  },
  {
   "cell_type": "code",
   "execution_count": 37,
   "metadata": {},
   "outputs": [],
   "source": [
    "## Code After Parsing through the text header\n",
    "\n",
    "x = trace_headers['CDP_X']/100\n",
    "y = trace_headers['CDP_Y']/100\n",
    "\n",
    "x1 = np.array(x)\n",
    "y1 = np.array(y)\n",
    "\n",
    "st1 = \"epsg:\"\n",
    "st2 = f_str[1]   ## String With epsg Number.\n",
    "\n",
    "st1 = st1 + st2   ## Concatenating the two strings.\n",
    "\n",
    "p1 = Proj(st1)\n",
    "lon , lat = p1(x1,y1,inverse=True)"
   ]
  },
  {
   "cell_type": "code",
   "execution_count": 38,
   "metadata": {},
   "outputs": [],
   "source": [
    "p1 = Proj(st1)\n",
    "trace_headers['lat'] = pd.Series(lat, index=trace_headers.index)\n",
    "trace_headers['lon'] = pd.Series(lon, index=trace_headers.index)"
   ]
  },
  {
   "cell_type": "code",
   "execution_count": 39,
   "metadata": {},
   "outputs": [
    {
     "data": {
      "text/html": [
       "<div>\n",
       "<style scoped>\n",
       "    .dataframe tbody tr th:only-of-type {\n",
       "        vertical-align: middle;\n",
       "    }\n",
       "\n",
       "    .dataframe tbody tr th {\n",
       "        vertical-align: top;\n",
       "    }\n",
       "\n",
       "    .dataframe thead th {\n",
       "        text-align: right;\n",
       "    }\n",
       "</style>\n",
       "<table border=\"1\" class=\"dataframe\">\n",
       "  <thead>\n",
       "    <tr style=\"text-align: right;\">\n",
       "      <th></th>\n",
       "      <th>TRACE_SEQUENCE_LINE</th>\n",
       "      <th>TRACE_SEQUENCE_FILE</th>\n",
       "      <th>FieldRecord</th>\n",
       "      <th>TraceNumber</th>\n",
       "      <th>EnergySourcePoint</th>\n",
       "      <th>CDP</th>\n",
       "      <th>CDP_TRACE</th>\n",
       "      <th>TraceIdentificationCode</th>\n",
       "      <th>NSummedTraces</th>\n",
       "      <th>NStackedTraces</th>\n",
       "      <th>...</th>\n",
       "      <th>SourceType</th>\n",
       "      <th>SourceEnergyDirectionMantissa</th>\n",
       "      <th>SourceEnergyDirectionExponent</th>\n",
       "      <th>SourceMeasurementMantissa</th>\n",
       "      <th>SourceMeasurementExponent</th>\n",
       "      <th>SourceMeasurementUnit</th>\n",
       "      <th>UnassignedInt1</th>\n",
       "      <th>UnassignedInt2</th>\n",
       "      <th>lat</th>\n",
       "      <th>lon</th>\n",
       "    </tr>\n",
       "  </thead>\n",
       "  <tbody>\n",
       "    <tr>\n",
       "      <th>1</th>\n",
       "      <td>1</td>\n",
       "      <td>1</td>\n",
       "      <td>3</td>\n",
       "      <td>1</td>\n",
       "      <td>1963</td>\n",
       "      <td>83</td>\n",
       "      <td>1</td>\n",
       "      <td>1</td>\n",
       "      <td>1</td>\n",
       "      <td>3</td>\n",
       "      <td>...</td>\n",
       "      <td>0</td>\n",
       "      <td>0</td>\n",
       "      <td>83</td>\n",
       "      <td>0</td>\n",
       "      <td>0</td>\n",
       "      <td>0</td>\n",
       "      <td>0</td>\n",
       "      <td>0</td>\n",
       "      <td>58.414256</td>\n",
       "      <td>1.943549</td>\n",
       "    </tr>\n",
       "    <tr>\n",
       "      <th>2</th>\n",
       "      <td>2</td>\n",
       "      <td>2</td>\n",
       "      <td>4</td>\n",
       "      <td>1</td>\n",
       "      <td>1964</td>\n",
       "      <td>84</td>\n",
       "      <td>2</td>\n",
       "      <td>1</td>\n",
       "      <td>1</td>\n",
       "      <td>2</td>\n",
       "      <td>...</td>\n",
       "      <td>0</td>\n",
       "      <td>0</td>\n",
       "      <td>84</td>\n",
       "      <td>0</td>\n",
       "      <td>0</td>\n",
       "      <td>0</td>\n",
       "      <td>0</td>\n",
       "      <td>0</td>\n",
       "      <td>58.414281</td>\n",
       "      <td>1.943341</td>\n",
       "    </tr>\n",
       "    <tr>\n",
       "      <th>3</th>\n",
       "      <td>3</td>\n",
       "      <td>3</td>\n",
       "      <td>5</td>\n",
       "      <td>1</td>\n",
       "      <td>1965</td>\n",
       "      <td>85</td>\n",
       "      <td>3</td>\n",
       "      <td>1</td>\n",
       "      <td>1</td>\n",
       "      <td>2</td>\n",
       "      <td>...</td>\n",
       "      <td>0</td>\n",
       "      <td>0</td>\n",
       "      <td>85</td>\n",
       "      <td>0</td>\n",
       "      <td>0</td>\n",
       "      <td>0</td>\n",
       "      <td>0</td>\n",
       "      <td>0</td>\n",
       "      <td>58.414307</td>\n",
       "      <td>1.943132</td>\n",
       "    </tr>\n",
       "    <tr>\n",
       "      <th>4</th>\n",
       "      <td>4</td>\n",
       "      <td>4</td>\n",
       "      <td>6</td>\n",
       "      <td>1</td>\n",
       "      <td>1966</td>\n",
       "      <td>86</td>\n",
       "      <td>4</td>\n",
       "      <td>1</td>\n",
       "      <td>1</td>\n",
       "      <td>1</td>\n",
       "      <td>...</td>\n",
       "      <td>0</td>\n",
       "      <td>0</td>\n",
       "      <td>86</td>\n",
       "      <td>0</td>\n",
       "      <td>0</td>\n",
       "      <td>0</td>\n",
       "      <td>0</td>\n",
       "      <td>0</td>\n",
       "      <td>58.414332</td>\n",
       "      <td>1.942924</td>\n",
       "    </tr>\n",
       "    <tr>\n",
       "      <th>5</th>\n",
       "      <td>5</td>\n",
       "      <td>5</td>\n",
       "      <td>7</td>\n",
       "      <td>1</td>\n",
       "      <td>1967</td>\n",
       "      <td>87</td>\n",
       "      <td>5</td>\n",
       "      <td>1</td>\n",
       "      <td>1</td>\n",
       "      <td>4</td>\n",
       "      <td>...</td>\n",
       "      <td>0</td>\n",
       "      <td>0</td>\n",
       "      <td>87</td>\n",
       "      <td>0</td>\n",
       "      <td>0</td>\n",
       "      <td>0</td>\n",
       "      <td>0</td>\n",
       "      <td>0</td>\n",
       "      <td>58.414358</td>\n",
       "      <td>1.942716</td>\n",
       "    </tr>\n",
       "  </tbody>\n",
       "</table>\n",
       "<p>5 rows × 93 columns</p>\n",
       "</div>"
      ],
      "text/plain": [
       "   TRACE_SEQUENCE_LINE  TRACE_SEQUENCE_FILE  FieldRecord  TraceNumber  \\\n",
       "1                    1                    1            3            1   \n",
       "2                    2                    2            4            1   \n",
       "3                    3                    3            5            1   \n",
       "4                    4                    4            6            1   \n",
       "5                    5                    5            7            1   \n",
       "\n",
       "   EnergySourcePoint  CDP  CDP_TRACE  TraceIdentificationCode  NSummedTraces  \\\n",
       "1               1963   83          1                        1              1   \n",
       "2               1964   84          2                        1              1   \n",
       "3               1965   85          3                        1              1   \n",
       "4               1966   86          4                        1              1   \n",
       "5               1967   87          5                        1              1   \n",
       "\n",
       "   NStackedTraces  ...  SourceType  SourceEnergyDirectionMantissa  \\\n",
       "1               3  ...           0                              0   \n",
       "2               2  ...           0                              0   \n",
       "3               2  ...           0                              0   \n",
       "4               1  ...           0                              0   \n",
       "5               4  ...           0                              0   \n",
       "\n",
       "   SourceEnergyDirectionExponent  SourceMeasurementMantissa  \\\n",
       "1                             83                          0   \n",
       "2                             84                          0   \n",
       "3                             85                          0   \n",
       "4                             86                          0   \n",
       "5                             87                          0   \n",
       "\n",
       "   SourceMeasurementExponent  SourceMeasurementUnit  UnassignedInt1  \\\n",
       "1                          0                      0               0   \n",
       "2                          0                      0               0   \n",
       "3                          0                      0               0   \n",
       "4                          0                      0               0   \n",
       "5                          0                      0               0   \n",
       "\n",
       "   UnassignedInt2        lat       lon  \n",
       "1               0  58.414256  1.943549  \n",
       "2               0  58.414281  1.943341  \n",
       "3               0  58.414307  1.943132  \n",
       "4               0  58.414332  1.942924  \n",
       "5               0  58.414358  1.942716  \n",
       "\n",
       "[5 rows x 93 columns]"
      ]
     },
     "execution_count": 39,
     "metadata": {},
     "output_type": "execute_result"
    }
   ],
   "source": [
    "trace_headers.head()  ## Data Frame head with lat and long."
   ]
  },
  {
   "cell_type": "markdown",
   "metadata": {},
   "source": [
    "# Plotting Latitude and Longitude"
   ]
  },
  {
   "cell_type": "code",
   "execution_count": 40,
   "metadata": {},
   "outputs": [
    {
     "data": {
      "text/plain": [
       "(1.7941668212069157, 1.963389321130547, 58.414255969625756, 58.476173248464676)"
      ]
     },
     "execution_count": 40,
     "metadata": {},
     "output_type": "execute_result"
    }
   ],
   "source": [
    "Bbox = (trace_headers.lon.min(), trace_headers.lon.max(),trace_headers.lat.min(), trace_headers.lat.max())\n",
    "Bbox "
   ]
  },
  {
   "cell_type": "code",
   "execution_count": 45,
   "metadata": {},
   "outputs": [],
   "source": [
    "file_loc = 'C:/Users/karth/Downloads/map.png'   ## File to be downloaded from internet. Use Bounding Box to extract image."
   ]
  },
  {
   "cell_type": "code",
   "execution_count": 42,
   "metadata": {},
   "outputs": [],
   "source": [
    "ruh_m = plt.imread(file_loc)"
   ]
  },
  {
   "cell_type": "code",
   "execution_count": 47,
   "metadata": {},
   "outputs": [
    {
     "data": {
      "text/plain": [
       "<matplotlib.image.AxesImage at 0x1e080f1de80>"
      ]
     },
     "execution_count": 47,
     "metadata": {},
     "output_type": "execute_result"
    },
    {
     "data": {
      "image/png": "[encoded data removed]",
      "text/plain": [
       "<Figure size 1080x720 with 1 Axes>"
      ]
     },
     "metadata": {
      "needs_background": "light"
     },
     "output_type": "display_data"
    }
   ],
   "source": [
    "fig, ax = plt.subplots(figsize = (15,10))\n",
    "ax.scatter(trace_headers.lon, trace_headers.lat, zorder=1, alpha= 0.2, c='b', s=10 ,cmap = 'jet_r')\n",
    "ax.set_title('Plotting Spatial Data on Map')\n",
    "ax.set_xlim(Bbox[0]-0.001,Bbox[1]+0.001)\n",
    "ax.set_ylim(Bbox[2]-0.001,Bbox[3]+0.001)\n",
    "ax.set_xlabel('Longitude')\n",
    "ax.set_ylabel('Latitude')\n",
    "ax.imshow(ruh_m, zorder=0,extent = Bbox ,aspect= 'equal')"
   ]
  },
  {
   "cell_type": "code",
   "execution_count": null,
   "metadata": {},
   "outputs": [],
   "source": []
  }
 ],
 "metadata": {
  "kernelspec": {
   "display_name": "Python 3",
   "language": "python",
   "name": "python3"
  },
  "language_info": {
   "codemirror_mode": {
    "name": "ipython",
    "version": 3
   },
   "file_extension": ".py",
   "mimetype": "text/x-python",
   "name": "python",
   "nbconvert_exporter": "python",
   "pygments_lexer": "ipython3",
   "version": "3.7.3"
  }
 },
 "nbformat": 4,
 "nbformat_minor": 4
}
